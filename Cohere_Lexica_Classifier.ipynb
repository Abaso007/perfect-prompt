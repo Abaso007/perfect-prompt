{
 "cells": [
  {
   "cell_type": "code",
   "execution_count": 1,
   "metadata": {},
   "outputs": [],
   "source": [
    "#keep in mind a prompt dump is available here, which I believe is just one per line\n",
    "#https://github.com/Jeremy-Fuller/Prompts/blob/main/prompts.txt"
   ]
  },
  {
   "cell_type": "code",
   "execution_count": null,
   "metadata": {},
   "outputs": [],
   "source": [
    "# using this as example\n",
    "# https://lablab.ai/t/cohere-text-classifier"
   ]
  },
  {
   "cell_type": "code",
   "execution_count": 45,
   "metadata": {},
   "outputs": [],
   "source": [
    "import pandas as pd\n",
    "import cohere\n",
    "from cohere.classify import Example\n",
    "\n",
    "COHERE_KEY = open(\"cohere-key.txt\", \"r\").readlines(0)[0][:-1]\n",
    "\n",
    "co = cohere.Client(f'{COHERE_KEY}')"
   ]
  },
  {
   "cell_type": "code",
   "execution_count": 46,
   "metadata": {},
   "outputs": [
    {
     "data": {
      "text/html": [
       "<div>\n",
       "<style scoped>\n",
       "    .dataframe tbody tr th:only-of-type {\n",
       "        vertical-align: middle;\n",
       "    }\n",
       "\n",
       "    .dataframe tbody tr th {\n",
       "        vertical-align: top;\n",
       "    }\n",
       "\n",
       "    .dataframe thead th {\n",
       "        text-align: right;\n",
       "    }\n",
       "</style>\n",
       "<table border=\"1\" class=\"dataframe\">\n",
       "  <thead>\n",
       "    <tr style=\"text-align: right;\">\n",
       "      <th></th>\n",
       "      <th>Unnamed: 0</th>\n",
       "      <th>keyword</th>\n",
       "      <th>image</th>\n",
       "      <th>prompt</th>\n",
       "    </tr>\n",
       "  </thead>\n",
       "  <tbody>\n",
       "    <tr>\n",
       "      <th>0</th>\n",
       "      <td>0</td>\n",
       "      <td>cyberpunk</td>\n",
       "      <td>https://lexica-serve-encoded-images.sharif.wor...</td>\n",
       "      <td>detailed portrait Neon Operator Girl, cyberpun...</td>\n",
       "    </tr>\n",
       "    <tr>\n",
       "      <th>1</th>\n",
       "      <td>1</td>\n",
       "      <td>cyberpunk</td>\n",
       "      <td>https://lexica-serve-encoded-images.sharif.wor...</td>\n",
       "      <td>detailed portrait of cyberpunk computer scient...</td>\n",
       "    </tr>\n",
       "    <tr>\n",
       "      <th>2</th>\n",
       "      <td>2</td>\n",
       "      <td>cyberpunk</td>\n",
       "      <td>https://lexica-serve-encoded-images.sharif.wor...</td>\n",
       "      <td>cyberpunk huntress. this pastel painting by th...</td>\n",
       "    </tr>\n",
       "    <tr>\n",
       "      <th>3</th>\n",
       "      <td>3</td>\n",
       "      <td>cyberpunk</td>\n",
       "      <td>https://lexica-serve-encoded-images.sharif.wor...</td>\n",
       "      <td>a beautiful portrait painting of a cyberpunk g...</td>\n",
       "    </tr>\n",
       "    <tr>\n",
       "      <th>4</th>\n",
       "      <td>4</td>\n",
       "      <td>cyberpunk</td>\n",
       "      <td>https://lexica-serve-encoded-images.sharif.wor...</td>\n",
       "      <td>cyberpunk princess. this watercolor painting b...</td>\n",
       "    </tr>\n",
       "  </tbody>\n",
       "</table>\n",
       "</div>"
      ],
      "text/plain": [
       "   Unnamed: 0    keyword                                              image  \\\n",
       "0           0  cyberpunk  https://lexica-serve-encoded-images.sharif.wor...   \n",
       "1           1  cyberpunk  https://lexica-serve-encoded-images.sharif.wor...   \n",
       "2           2  cyberpunk  https://lexica-serve-encoded-images.sharif.wor...   \n",
       "3           3  cyberpunk  https://lexica-serve-encoded-images.sharif.wor...   \n",
       "4           4  cyberpunk  https://lexica-serve-encoded-images.sharif.wor...   \n",
       "\n",
       "                                              prompt  \n",
       "0  detailed portrait Neon Operator Girl, cyberpun...  \n",
       "1  detailed portrait of cyberpunk computer scient...  \n",
       "2  cyberpunk huntress. this pastel painting by th...  \n",
       "3  a beautiful portrait painting of a cyberpunk g...  \n",
       "4  cyberpunk princess. this watercolor painting b...  "
      ]
     },
     "execution_count": 46,
     "metadata": {},
     "output_type": "execute_result"
    }
   ],
   "source": [
    "df = pd.read_csv(\"lexica_prompts_df.csv\")\n",
    "df.head()"
   ]
  },
  {
   "cell_type": "code",
   "execution_count": 47,
   "metadata": {},
   "outputs": [],
   "source": [
    "EXAMPLES = [Example(p, l) for p, l in zip(df.prompt, df.keyword)]"
   ]
  },
  {
   "cell_type": "code",
   "execution_count": 64,
   "metadata": {},
   "outputs": [],
   "source": [
    "response = co.classify(inputs = [\"a futuristic robot with a massive sombrero\", \n",
    "                                 \"a landscape shot of icy mountains in the Andes\",\n",
    "                                \"A cozy cabin with lots of mushrooms and soft things\",\n",
    "                                \"A painting of a bunch of greenery like trees and bushes\",\n",
    "                                \"A real life dog, with realistic fur\"],\n",
    "                      examples = EXAMPLES)\n"
   ]
  },
  {
   "cell_type": "code",
   "execution_count": 66,
   "metadata": {},
   "outputs": [
    {
     "name": "stdout",
     "output_type": "stream",
     "text": [
      "The input was a futuristic robot with a massive sombrero and the prediction was steampunk\n",
      "The input was a landscape shot of icy mountains in the Andes and the prediction was water colors\n",
      "The input was A cozy cabin with lots of mushrooms and soft things and the prediction was cottage core\n",
      "The input was A painting of a bunch of greenery like trees and bushes and the prediction was water colors\n",
      "The input was A real life dog, with realistic fur and the prediction was photorealistic\n"
     ]
    }
   ],
   "source": [
    "for x in response.classifications:\n",
    "    print(f'The input was {x.input} and the prediction was {x.prediction}')"
   ]
  },
  {
   "cell_type": "code",
   "execution_count": 61,
   "metadata": {},
   "outputs": [
    {
     "data": {
      "text/plain": [
       "'steampunk'"
      ]
     },
     "execution_count": 61,
     "metadata": {},
     "output_type": "execute_result"
    }
   ],
   "source": []
  },
  {
   "cell_type": "code",
   "execution_count": null,
   "metadata": {},
   "outputs": [],
   "source": []
  }
 ],
 "metadata": {
  "kernelspec": {
   "display_name": "Python 3",
   "language": "python",
   "name": "python3"
  },
  "language_info": {
   "codemirror_mode": {
    "name": "ipython",
    "version": 3
   },
   "file_extension": ".py",
   "mimetype": "text/x-python",
   "name": "python",
   "nbconvert_exporter": "python",
   "pygments_lexer": "ipython3",
   "version": "3.8.3"
  }
 },
 "nbformat": 4,
 "nbformat_minor": 4
}
