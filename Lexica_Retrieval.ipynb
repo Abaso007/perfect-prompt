{
 "cells": [
  {
   "cell_type": "code",
   "execution_count": 3,
   "metadata": {},
   "outputs": [],
   "source": [
    "import requests as re\n",
    "import pandas as pd\n",
    "import json"
   ]
  },
  {
   "cell_type": "code",
   "execution_count": 77,
   "metadata": {},
   "outputs": [],
   "source": [
    "LEXICA_API_ENDPOINT = \"https://lexica.art/api/v1/search\"\n",
    "\n",
    "keywords = [\"cyberpunk\", \"photorealistic\", \"cottage core\", \"water colors\", \"steampunk\"]\n",
    "\n",
    "keyword_results = []\n",
    "\n",
    "for keyword in keywords:\n",
    "    r = re.get(url = LEXICA_API_ENDPOINT, params = {\"q\": keyword})\n",
    "    keyword_results.append({\"keyword\": keyword, \"result\": r})\n",
    "\n",
    "\n"
   ]
  },
  {
   "cell_type": "code",
   "execution_count": 78,
   "metadata": {},
   "outputs": [
    {
     "data": {
      "text/plain": [
       "[{'keyword': 'cyberpunk', 'result': <Response [200]>},\n",
       " {'keyword': 'photorealistic', 'result': <Response [200]>},\n",
       " {'keyword': 'cottage core', 'result': <Response [200]>},\n",
       " {'keyword': 'water colors', 'result': <Response [200]>},\n",
       " {'keyword': 'steampunk', 'result': <Response [200]>}]"
      ]
     },
     "execution_count": 78,
     "metadata": {},
     "output_type": "execute_result"
    }
   ],
   "source": [
    "keyword_results"
   ]
  },
  {
   "cell_type": "code",
   "execution_count": 79,
   "metadata": {},
   "outputs": [],
   "source": [
    "keyword_prompts_and_images = []\n",
    "for result in keyword_results:\n",
    "    images = result[\"result\"].json()[\"images\"]\n",
    "    keyword = result[\"keyword\"]\n",
    "    for i in images:\n",
    "        keyword_prompts_and_images.append({\"keyword\": keyword, \"image\": i[\"src\"], \"prompt\": i[\"prompt\"]})"
   ]
  },
  {
   "cell_type": "code",
   "execution_count": 81,
   "metadata": {},
   "outputs": [],
   "source": [
    "keyword_dump = pd.DataFrame(keyword_prompts_and_images)"
   ]
  },
  {
   "cell_type": "code",
   "execution_count": 82,
   "metadata": {},
   "outputs": [],
   "source": [
    "keyword_dump.to_csv(\"lexica_prompts_df.csv\")"
   ]
  },
  {
   "cell_type": "raw",
   "metadata": {},
   "source": [
    "keyword_dump.to_csv(\"\")"
   ]
  }
 ],
 "metadata": {
  "kernelspec": {
   "display_name": "Python 3",
   "language": "python",
   "name": "python3"
  },
  "language_info": {
   "codemirror_mode": {
    "name": "ipython",
    "version": 3
   },
   "file_extension": ".py",
   "mimetype": "text/x-python",
   "name": "python",
   "nbconvert_exporter": "python",
   "pygments_lexer": "ipython3",
   "version": "3.8.3"
  }
 },
 "nbformat": 4,
 "nbformat_minor": 4
}
